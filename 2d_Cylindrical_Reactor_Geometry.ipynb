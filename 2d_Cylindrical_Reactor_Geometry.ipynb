{
 "cells": [
  {
   "cell_type": "code",
   "execution_count": 21,
   "id": "initial_id",
   "metadata": {
    "collapsed": true,
    "ExecuteTime": {
     "end_time": "2024-06-03T04:13:47.167290500Z",
     "start_time": "2024-06-03T04:13:47.149379800Z"
    }
   },
   "outputs": [],
   "source": [
    "import torch\n",
    "import torch.nn as nn\n",
    "import numpy as np\n",
    "import time\n",
    "import scipy\n",
    "import matplotlib.pyplot as plt\n",
    "import scipy.special as special"
   ]
  },
  {
   "cell_type": "code",
   "execution_count": 22,
   "outputs": [],
   "source": [
    "device = torch.device(\"cuda\" if torch.cuda.is_available() else \"cpu\")\n",
    "data_path = 'Data/'"
   ],
   "metadata": {
    "collapsed": false,
    "ExecuteTime": {
     "end_time": "2024-06-03T04:13:47.959714500Z",
     "start_time": "2024-06-03T04:13:47.910470600Z"
    }
   },
   "id": "8053c4ba7d72715a"
  },
  {
   "cell_type": "code",
   "execution_count": 23,
   "outputs": [
    {
     "data": {
      "text/plain": "<matplotlib.colorbar.Colorbar at 0x16e4880b010>"
     },
     "execution_count": 23,
     "metadata": {},
     "output_type": "execute_result"
    },
    {
     "data": {
      "text/plain": "<Figure size 432x288 with 2 Axes>",
      "image/png": "[encoded data removed]"
     },
     "metadata": {
      "needs_background": "light"
     },
     "output_type": "display_data"
    }
   ],
   "source": [
    "sigma_a = 0.45\n",
    "sigma_s = 2\n",
    "sigma_f = 0.5\n",
    "vsigma_f = 2.5\n",
    "d = 0.7104\n",
    "D = 1/(3*(sigma_s + sigma_a))\n",
    "B_g_square = (vsigma_f - sigma_a)/D\n",
    "R_e_square = (np.pi**2 + 2.405**2) / B_g_square\n",
    "R_e = R_e_square ** (1/2)\n",
    "R = R_e - d\n",
    "H_e = R_e\n",
    "AC = 1/special.jv(0,0)\n",
    "\n",
    "\n",
    "#analytical plot using this function\n",
    "def Exact_u_func(x,y):\n",
    "    u = AC*special.jv(0,(2.405/R_e)*x)*np.cos((np.pi/H_e)*y)\n",
    "    return u\n",
    "\n",
    "x_pred, y_pred = np.linspace(0,1,100), np.linspace(0,0.5,100)\n",
    "X, Y = np.meshgrid(x_pred, y_pred)\n",
    "x_p, y_p = X.flatten(), Y.flatten()\n",
    "analytical_solution = Exact_u_func(x_p,y_p) \n",
    "plt.title('Analytical Solution')\n",
    "plt.contourf(X,Y,analytical_solution.reshape(100,100),cmap='viridis')\n",
    "plt.colorbar()"
   ],
   "metadata": {
    "collapsed": false,
    "ExecuteTime": {
     "end_time": "2024-06-03T04:13:48.769716500Z",
     "start_time": "2024-06-03T04:13:48.529389200Z"
    }
   },
   "id": "f5b8ab454e5aa4f0"
  },
  {
   "cell_type": "code",
   "execution_count": 24,
   "outputs": [],
   "source": [
    "# generate collocation points here\n",
    "x_points = np.random.uniform(0,1,200)\n",
    "y_points = np.random.uniform(0,0.5,100)\n",
    "X1, X2 = np.meshgrid(x_points,y_points)\n",
    "x_res = X1.flatten().reshape(20000,1)\n",
    "y_res = X2.flatten().reshape(20000,1)"
   ],
   "metadata": {
    "collapsed": false,
    "ExecuteTime": {
     "end_time": "2024-06-03T04:13:49.375224400Z",
     "start_time": "2024-06-03T04:13:49.360112300Z"
    }
   },
   "id": "a75c5a0e29d4e37d"
  },
  {
   "cell_type": "code",
   "execution_count": 25,
   "outputs": [
    {
     "data": {
      "text/plain": "<matplotlib.collections.PathCollection at 0x16e488c9d50>"
     },
     "execution_count": 25,
     "metadata": {},
     "output_type": "execute_result"
    },
    {
     "data": {
      "text/plain": "<Figure size 432x288 with 1 Axes>",
      "image/png": "[encoded data removed]"
     },
     "metadata": {
      "needs_background": "light"
     },
     "output_type": "display_data"
    }
   ],
   "source": [
    "left_x = np.linspace(0,0,100).reshape(100,1)\n",
    "left_y = np.random.uniform(0,0.5,100).reshape(100,1)\n",
    "right_x = np.linspace(1,1,100).reshape(100,1)\n",
    "right_y = np.random.uniform(0,0.5,100).reshape(100,1)\n",
    "up_x  = np.random.uniform(0,1,100).reshape(100,1)\n",
    "up_y = np.linspace(0.5,0.5,100).reshape(100,1)\n",
    "down_x = np.random.uniform(0,1,100).reshape(100,1)\n",
    "down_y = np.random.uniform(0,0,100).reshape(100,1)\n",
    "\n",
    "plt.title('random collocation and boundary points')\n",
    "plt.scatter(x_res,y_res)\n",
    "plt.scatter(left_x,left_y)\n",
    "plt.scatter(right_x,right_y)\n",
    "plt.scatter(down_x,down_y)\n",
    "plt.scatter(up_x,up_y)"
   ],
   "metadata": {
    "collapsed": false,
    "ExecuteTime": {
     "end_time": "2024-06-03T04:13:50.286548800Z",
     "start_time": "2024-06-03T04:13:50.052077600Z"
    }
   },
   "id": "162f105cc413f330"
  },
  {
   "cell_type": "code",
   "execution_count": 26,
   "outputs": [],
   "source": [
    "class PINNS(nn.Module):\n",
    "    def __init__(self):\n",
    "        super(PINNS, self).__init__()\n",
    "        self.layers = [2,40,40,40,40,40,40,40,40,1]\n",
    "        self.device = \"cuda\" if torch.cuda.is_available() else \"cpu\"\n",
    "        self.linear_layers = nn.ModuleList()\n",
    "        self.init_linear_layers()\n",
    "    \n",
    "    def init_linear_layers(self):\n",
    "        for i in range(len(self.layers) - 1):\n",
    "            self.linear_layers.append(nn.Linear(self.layers[i], self.layers[i + 1]))\n",
    "            nn.init.xavier_normal_(self.linear_layers[-1].weight)\n",
    "\n",
    "    def forward(self, x, y):\n",
    "        X = torch.cat([x, y], 1)\n",
    "        for layer in self.linear_layers[:-1]:\n",
    "            X = torch.tanh(layer(X))\n",
    "\n",
    "        output = self.linear_layers[-1](X)\n",
    "\n",
    "        return output"
   ],
   "metadata": {
    "collapsed": false,
    "ExecuteTime": {
     "end_time": "2024-06-03T04:13:51.853719Z",
     "start_time": "2024-06-03T04:13:51.837166900Z"
    }
   },
   "id": "54a7169f35170bd8"
  },
  {
   "cell_type": "code",
   "execution_count": 27,
   "outputs": [],
   "source": [
    "def diff_x(a,b):\n",
    "    da_db = torch.autograd.grad(a.sum(),b,create_graph=True)[0]\n",
    "    return da_db\n",
    "loss_function = torch.nn.MSELoss(reduction='mean')\n",
    "\n",
    "def loss_func(pred,true=None):\n",
    "    if true is None:\n",
    "        true = torch.zeros_like(pred).to(device)\n",
    "    return loss_function(pred,true)\n",
    "\n",
    "def data_loader(x, requires_grad=True):\n",
    "    x_array = np.array(x)\n",
    "    x_tensor = torch.tensor(x_array,\n",
    "                   requires_grad=requires_grad,\n",
    "                            dtype=torch.float32,\n",
    "                            device=device)\n",
    "    return x_tensor\n"
   ],
   "metadata": {
    "collapsed": false,
    "ExecuteTime": {
     "end_time": "2024-06-03T04:13:53.085349600Z",
     "start_time": "2024-06-03T04:13:53.082024900Z"
    }
   },
   "id": "b0933ef6f6b38bea"
  },
  {
   "cell_type": "code",
   "execution_count": 28,
   "outputs": [],
   "source": [
    "#turn raw data to tensor using the data_loader function\n",
    "x_res = data_loader(torch.tensor(x_res))\n",
    "y_res = data_loader(torch.tensor(y_res))\n",
    "zero_point = data_loader([0],requires_grad=False).reshape(1,1)\n",
    "l_b_1 = data_loader(left_x)\n",
    "l_b_2 = data_loader(left_y)\n",
    "d_b_1 = data_loader(down_x)\n",
    "d_b_2 = data_loader(down_y)\n",
    "u_b_x = data_loader(up_x) \n",
    "u_b_y = data_loader(up_y) \n",
    "r_b_x = data_loader(right_x)\n",
    "r_b_y = data_loader(right_y)\n",
    "B_g_square = data_loader(15.0675)"
   ],
   "metadata": {
    "collapsed": false,
    "ExecuteTime": {
     "end_time": "2024-06-03T04:13:54.710323700Z",
     "start_time": "2024-06-03T04:13:54.677924700Z"
    }
   },
   "id": "9e129d9effd94491"
  },
  {
   "cell_type": "code",
   "execution_count": null,
   "outputs": [],
   "source": [
    "t1 = time.time()\n",
    "NN = PINNS()\n",
    "NN.to(device)\n",
    "lr = 1e-4\n",
    "epochs = 5000\n",
    "optimizer = torch.optim.Adam(NN.parameters(), lr=lr)\n",
    "\n",
    "for i in range(epochs):\n",
    "    optimizer.zero_grad()\n",
    "    x_phy = x_res\n",
    "    y_phy = y_res\n",
    "        \n",
    "    pinns_pred = NN(x_phy,y_phy)\n",
    "    phi_x = diff_x(pinns_pred,x_phy)\n",
    "    phi_xx = diff_x(phi_x,x_phy)\n",
    "    phi_y = diff_x(pinns_pred,y_phy)\n",
    "    phi_yy = diff_x(phi_y,y_phy)\n",
    "    eqn = x_phy*(phi_xx + phi_yy + B_g_square*pinns_pred) + phi_x        \n",
    "    loss_pde = loss_func(eqn)\n",
    "\n",
    "    #loss boundary\n",
    "    bc_left = NN(l_b_1,l_b_2) \n",
    "    bc_right = NN(r_b_x,r_b_y)\n",
    "    bc_up = NN(u_b_x,u_b_y)\n",
    "    bc_down = NN(d_b_1,d_b_2) \n",
    "    down_grad = diff_x(bc_down,d_b_2)\n",
    "    left_grad = diff_x(bc_left,l_b_1)\n",
    "        \n",
    "    loss_bc = loss_func(down_grad) + loss_func(left_grad) + loss_func(bc_right) + loss_func(bc_up)\n",
    "        \n",
    "   #normalisation equal 1\n",
    "    norm = NN(zero_point,zero_point)\n",
    "    ones = torch.ones_like(norm).to(device)\n",
    "    loss_norm = loss_func(norm,ones)\n",
    "    loss = loss_pde + loss_bc + loss_norm\n",
    "    loss.backward()\n",
    "\n",
    "    optimizer.step()\n",
    "    \n",
    "    if i % 10 == 0:\n",
    "        print(f' Iter: {i}, loss_pde: {loss_pde}, loss_bc: {loss_bc}, loss_norm:{loss_norm}')\n",
    "\n",
    "torch.save(NN.state_dict(), 'cylindrical_pinns.pth')\n",
    "\n",
    "start_time = time.time()\n",
    "print(f'Training total time: {(t1 - start_time)/60} minutes')"
   ],
   "metadata": {
    "collapsed": false
   },
   "id": "91429eb5ff9521ca"
  },
  {
   "cell_type": "code",
   "execution_count": 34,
   "outputs": [],
   "source": [
    "predict_points_x = np.linspace(0,1,200) \n",
    "predict_points_y = np.linspace(0,0.5,200)\n",
    "X_pred, Y_pred = np.meshgrid(predict_points_x,predict_points_y)\n",
    "X_pred = X_pred.flatten()\n",
    "Y_pred = Y_pred.flatten()"
   ],
   "metadata": {
    "collapsed": false,
    "ExecuteTime": {
     "end_time": "2024-06-03T04:17:06.109806500Z",
     "start_time": "2024-06-03T04:17:06.090659200Z"
    }
   },
   "id": "af4f1bc8027996fe"
  },
  {
   "cell_type": "code",
   "execution_count": 37,
   "outputs": [
    {
     "data": {
      "text/plain": "<matplotlib.collections.PathCollection at 0x16e4e2a00a0>"
     },
     "execution_count": 37,
     "metadata": {},
     "output_type": "execute_result"
    },
    {
     "data": {
      "text/plain": "<Figure size 432x288 with 1 Axes>",
      "image/png": "[encoded data removed]"
     },
     "metadata": {
      "needs_background": "light"
     },
     "output_type": "display_data"
    }
   ],
   "source": [
    "plt.title('Prediction Points')\n",
    "plt.scatter(X_pred,Y_pred)"
   ],
   "metadata": {
    "collapsed": false,
    "ExecuteTime": {
     "end_time": "2024-06-03T04:18:30.133599500Z",
     "start_time": "2024-06-03T04:18:29.908625500Z"
    }
   },
   "id": "b6d961dfc581d483"
  },
  {
   "cell_type": "code",
   "execution_count": 35,
   "outputs": [
    {
     "data": {
      "text/plain": "<matplotlib.colorbar.Colorbar at 0x16e4c1fbe50>"
     },
     "execution_count": 35,
     "metadata": {},
     "output_type": "execute_result"
    },
    {
     "data": {
      "text/plain": "<Figure size 432x288 with 2 Axes>",
      "image/png": "[encoded data removed]"
     },
     "metadata": {
      "needs_background": "light"
     },
     "output_type": "display_data"
    }
   ],
   "source": [
    "#Make prediction with saved .pth file because ran on gpu.\n",
    "\n",
    "NN = PINNS()\n",
    "model_path = 'cylindrical_pinns.pth'\n",
    "\n",
    "NN.load_state_dict(torch.load(model_path, map_location=device))\n",
    "NN.eval()\n",
    "NN.to(device)\n",
    "def data_loader(x,grad=True):\n",
    "    x_tensor = torch.tensor(x,requires_grad=grad,dtype=torch.float32,device=device)\n",
    "    return x_tensor\n",
    "\n",
    "predict_x, predict_y = data_loader(X_pred, False).reshape(-1).unsqueeze(1), data_loader(Y_pred, False).reshape(-1).unsqueeze(1)\n",
    "with torch.no_grad():\n",
    "    predictions1 = NN(predict_x, predict_y)\n",
    "\n",
    "predictions_flattened = predictions1.flatten()\n",
    "plt.contourf(predict_x.reshape(200, 200), predict_y.reshape(200, 200), predictions1.reshape(200, 200))\n",
    "plt.colorbar()"
   ],
   "metadata": {
    "collapsed": false,
    "ExecuteTime": {
     "end_time": "2024-06-03T04:17:08.264592300Z",
     "start_time": "2024-06-03T04:17:08.032476Z"
    }
   },
   "id": "e32c76e3e954223c"
  },
  {
   "cell_type": "code",
   "execution_count": null,
   "outputs": [],
   "source": [],
   "metadata": {
    "collapsed": false
   },
   "id": "95528e2884278104"
  }
 ],
 "metadata": {
  "kernelspec": {
   "display_name": "Python 3",
   "language": "python",
   "name": "python3"
  },
  "language_info": {
   "codemirror_mode": {
    "name": "ipython",
    "version": 2
   },
   "file_extension": ".py",
   "mimetype": "text/x-python",
   "name": "python",
   "nbconvert_exporter": "python",
   "pygments_lexer": "ipython2",
   "version": "2.7.6"
  }
 },
 "nbformat": 4,
 "nbformat_minor": 5
}
