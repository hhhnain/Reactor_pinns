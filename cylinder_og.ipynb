{
 "cells": [
  {
   "cell_type": "code",
   "execution_count": 21,
   "id": "initial_id",
   "metadata": {
    "collapsed": true,
    "ExecuteTime": {
     "end_time": "2024-06-01T00:51:32.999081100Z",
     "start_time": "2024-06-01T00:51:32.977946400Z"
    }
   },
   "outputs": [],
   "source": [
    "import torch\n",
    "import torch.nn as nn\n",
    "import numpy as np\n",
    "import time\n",
    "import scipy\n",
    "import matplotlib.pyplot as plt\n",
    "import scipy.special as special"
   ]
  },
  {
   "cell_type": "code",
   "execution_count": 24,
   "outputs": [],
   "source": [
    "device = torch.device(\"cuda\" if torch.cuda.is_available() else \"cpu\")\n",
    "data_path = 'Data/'"
   ],
   "metadata": {
    "collapsed": false,
    "ExecuteTime": {
     "end_time": "2024-06-01T00:53:57.657013600Z",
     "start_time": "2024-06-01T00:53:57.632878700Z"
    }
   },
   "id": "8053c4ba7d72715a"
  },
  {
   "cell_type": "code",
   "execution_count": 25,
   "outputs": [
    {
     "data": {
      "text/plain": "<matplotlib.colorbar.Colorbar at 0x1ec750fb820>"
     },
     "execution_count": 25,
     "metadata": {},
     "output_type": "execute_result"
    },
    {
     "data": {
      "text/plain": "<Figure size 432x288 with 2 Axes>",
      "image/png": "[encoded data removed]"
     },
     "metadata": {
      "needs_background": "light"
     },
     "output_type": "display_data"
    }
   ],
   "source": [
    "sigma_a = 0.45\n",
    "sigma_s = 2\n",
    "sigma_f = 0.5\n",
    "vsigma_f = 2.5\n",
    "d = 0.7104\n",
    "D = 1/(3*(sigma_s + sigma_a))\n",
    "B_g_square = (vsigma_f - sigma_a)/D\n",
    "R_e_square = (np.pi**2 + 2.405**2) / B_g_square\n",
    "R_e = R_e_square ** (1/2)\n",
    "R = R_e - d\n",
    "H_e = R_e\n",
    "AC = 1/special.jv(0,0)\n",
    "\n",
    "\n",
    "#analytical plot using this function\n",
    "def Exact_u_func(x,y):\n",
    "    u = AC*special.jv(0,(2.405/R_e)*x)*np.cos((np.pi/H_e)*y)\n",
    "    return u\n",
    "\n",
    "x_pred, y_pred = np.linspace(0,1,100), np.linspace(0,0.5,100)\n",
    "X, Y = np.meshgrid(x_pred, y_pred)\n",
    "x_p, y_p = X.flatten(), Y.flatten()\n",
    "analytical_solution = Exact_u_func(x_p,y_p) \n",
    "plt.title('Analytical Solution')\n",
    "plt.contourf(X,Y,analytical_solution.reshape(100,100),cmap='viridis')\n",
    "plt.colorbar()"
   ],
   "metadata": {
    "collapsed": false,
    "ExecuteTime": {
     "end_time": "2024-06-01T00:53:58.419346600Z",
     "start_time": "2024-06-01T00:53:58.185817500Z"
    }
   },
   "id": "f5b8ab454e5aa4f0"
  },
  {
   "cell_type": "code",
   "execution_count": 26,
   "outputs": [],
   "source": [
    "#load data from data file\n",
    "X_Res = scipy.io.loadmat('Data/X_Res.mat')\n",
    "x_res = X_Res['x_res']\n",
    "y_res = X_Res['y_res']\n",
    "X_B = scipy.io.loadmat('Data/X_B.mat')\n",
    "X_b_left = X_B['X_b_left']\n",
    "X_b_right = X_B['X_b_right']\n",
    "X_b_down = X_B['X_b_down']\n",
    "X_b_up = X_B['X_b_up']     \n",
    "\n",
    "Boundary = scipy.io.loadmat('Data/Boundary.mat')\n",
    "lb = Boundary['lb']\n",
    "ub = Boundary['ub']\n"
   ],
   "metadata": {
    "collapsed": false,
    "ExecuteTime": {
     "end_time": "2024-06-01T00:53:58.954527600Z",
     "start_time": "2024-06-01T00:53:58.935301600Z"
    }
   },
   "id": "a75c5a0e29d4e37d"
  },
  {
   "cell_type": "code",
   "execution_count": 27,
   "outputs": [],
   "source": [
    "class PINNS(nn.Module):\n",
    "    def __init__(self):\n",
    "        super(PINNS, self).__init__()\n",
    "        self.layers = [2,40,40,40,40,40,40,40,40,1]\n",
    "        self.device = \"cuda\" if torch.cuda.is_available() else \"cpu\"\n",
    "        self.linear_layers = nn.ModuleList()\n",
    "        self.init_linear_layers()\n",
    "    \n",
    "    def resize(self,X):\n",
    "        X_shifted = 2 * (X-lb) / (ub-lb) - 1\n",
    "        return X_shifted \n",
    "    \n",
    "\n",
    "    \n",
    "    def init_linear_layers(self):\n",
    "        for i in range(len(self.layers) - 1):\n",
    "            self.linear_layers.append(nn.Linear(self.layers[i], self.layers[i + 1]))\n",
    "            nn.init.xavier_normal_(self.linear_layers[-1].weight)\n",
    "\n",
    "    def forward(self, x, y):\n",
    "        X = torch.cat([x, y], 1)\n",
    "        X = self.resize(X)\n",
    "        for layer in self.linear_layers[:-1]:\n",
    "            X = torch.tanh(layer(X))\n",
    "\n",
    "        output = self.linear_layers[-1](X)\n",
    "\n",
    "        return output"
   ],
   "metadata": {
    "collapsed": false,
    "ExecuteTime": {
     "end_time": "2024-06-01T00:53:59.489585700Z",
     "start_time": "2024-06-01T00:53:59.472972Z"
    }
   },
   "id": "54a7169f35170bd8"
  },
  {
   "cell_type": "code",
   "execution_count": 28,
   "outputs": [],
   "source": [
    "def diff_x(a,b):\n",
    "    da_db = torch.autograd.grad(a.sum(),b,create_graph=True)[0]\n",
    "    return da_db\n",
    "loss_function = torch.nn.MSELoss(reduction='mean')\n",
    "\n",
    "def loss_func(pred,true=None):\n",
    "    if true is None:\n",
    "        true = torch.zeros_like(pred).to(device)\n",
    "    return loss_function(pred,true)\n",
    "\n",
    "def data_loader(x, requires_grad=True):\n",
    "    x_array = np.array(x)\n",
    "    x_tensor = torch.tensor(x_array,\n",
    "                   requires_grad=requires_grad,\n",
    "                            dtype=torch.float32,\n",
    "                            device=device)\n",
    "    return x_tensor\n"
   ],
   "metadata": {
    "collapsed": false,
    "ExecuteTime": {
     "end_time": "2024-06-01T00:54:00.084875300Z",
     "start_time": "2024-06-01T00:54:00.059936600Z"
    }
   },
   "id": "b0933ef6f6b38bea"
  },
  {
   "cell_type": "code",
   "execution_count": 29,
   "outputs": [],
   "source": [
    "#turn raw data to tensor using the data_loader function\n",
    "x_res = data_loader(x_res)\n",
    "y_res = data_loader(y_res)\n",
    "lb = data_loader(lb,requires_grad=False)\n",
    "ub = data_loader(ub,requires_grad=False)\n",
    "l_b_1 = data_loader(X_b_left[:,0:1])\n",
    "l_b_2 = data_loader(X_b_left[:,1:2])\n",
    "d_b_1 = data_loader(X_b_down[:,0:1])\n",
    "d_b_2 = data_loader(X_b_down[:,1:2])\n",
    "u_b_x = data_loader(X_b_up[:,0:1]) \n",
    "u_b_y = data_loader(X_b_up[:,1:2]) \n",
    "r_b_x = data_loader(X_b_right[:,0:1])\n",
    "r_b_y = data_loader(X_b_right[:,1:2])\n",
    "B_g_square = data_loader(15.0675)"
   ],
   "metadata": {
    "collapsed": false,
    "ExecuteTime": {
     "end_time": "2024-06-01T00:54:07.460346400Z",
     "start_time": "2024-06-01T00:54:07.449064500Z"
    }
   },
   "id": "9e129d9effd94491"
  },
  {
   "cell_type": "code",
   "execution_count": 30,
   "outputs": [
    {
     "name": "stdout",
     "output_type": "stream",
     "text": [
      " Iter: 0, loss_pde: 3.4149086475372314, loss_bc: 0.08281156420707703, loss_norm:0.8110508918762207\n",
      " Iter: 10, loss_pde: 0.3117094039916992, loss_bc: 0.038324348628520966, loss_norm:1.0722332000732422\n"
     ]
    },
    {
     "ename": "KeyboardInterrupt",
     "evalue": "",
     "output_type": "error",
     "traceback": [
      "\u001B[1;31m---------------------------------------------------------------------------\u001B[0m",
      "\u001B[1;31mKeyboardInterrupt\u001B[0m                         Traceback (most recent call last)",
      "Input \u001B[1;32mIn [30]\u001B[0m, in \u001B[0;36m<cell line: 10>\u001B[1;34m()\u001B[0m\n\u001B[0;32m     38\u001B[0m loss_norm \u001B[38;5;241m=\u001B[39m loss_func(norm,ones)\n\u001B[0;32m     39\u001B[0m loss \u001B[38;5;241m=\u001B[39m loss_pde \u001B[38;5;241m+\u001B[39m loss_bc \u001B[38;5;241m+\u001B[39m loss_norm\n\u001B[1;32m---> 40\u001B[0m \u001B[43mloss\u001B[49m\u001B[38;5;241;43m.\u001B[39;49m\u001B[43mbackward\u001B[49m\u001B[43m(\u001B[49m\u001B[43m)\u001B[49m\n\u001B[0;32m     42\u001B[0m optimizer\u001B[38;5;241m.\u001B[39mstep()\n\u001B[0;32m     44\u001B[0m \u001B[38;5;28;01mif\u001B[39;00m i \u001B[38;5;241m%\u001B[39m \u001B[38;5;241m10\u001B[39m \u001B[38;5;241m==\u001B[39m \u001B[38;5;241m0\u001B[39m:\n",
      "File \u001B[1;32m~\\AppData\\Local\\Programs\\Python\\Python310\\lib\\site-packages\\torch\\_tensor.py:488\u001B[0m, in \u001B[0;36mTensor.backward\u001B[1;34m(self, gradient, retain_graph, create_graph, inputs)\u001B[0m\n\u001B[0;32m    478\u001B[0m \u001B[38;5;28;01mif\u001B[39;00m has_torch_function_unary(\u001B[38;5;28mself\u001B[39m):\n\u001B[0;32m    479\u001B[0m     \u001B[38;5;28;01mreturn\u001B[39;00m handle_torch_function(\n\u001B[0;32m    480\u001B[0m         Tensor\u001B[38;5;241m.\u001B[39mbackward,\n\u001B[0;32m    481\u001B[0m         (\u001B[38;5;28mself\u001B[39m,),\n\u001B[1;32m   (...)\u001B[0m\n\u001B[0;32m    486\u001B[0m         inputs\u001B[38;5;241m=\u001B[39minputs,\n\u001B[0;32m    487\u001B[0m     )\n\u001B[1;32m--> 488\u001B[0m \u001B[43mtorch\u001B[49m\u001B[38;5;241;43m.\u001B[39;49m\u001B[43mautograd\u001B[49m\u001B[38;5;241;43m.\u001B[39;49m\u001B[43mbackward\u001B[49m\u001B[43m(\u001B[49m\n\u001B[0;32m    489\u001B[0m \u001B[43m    \u001B[49m\u001B[38;5;28;43mself\u001B[39;49m\u001B[43m,\u001B[49m\u001B[43m \u001B[49m\u001B[43mgradient\u001B[49m\u001B[43m,\u001B[49m\u001B[43m \u001B[49m\u001B[43mretain_graph\u001B[49m\u001B[43m,\u001B[49m\u001B[43m \u001B[49m\u001B[43mcreate_graph\u001B[49m\u001B[43m,\u001B[49m\u001B[43m \u001B[49m\u001B[43minputs\u001B[49m\u001B[38;5;241;43m=\u001B[39;49m\u001B[43minputs\u001B[49m\n\u001B[0;32m    490\u001B[0m \u001B[43m\u001B[49m\u001B[43m)\u001B[49m\n",
      "File \u001B[1;32m~\\AppData\\Local\\Programs\\Python\\Python310\\lib\\site-packages\\torch\\autograd\\__init__.py:197\u001B[0m, in \u001B[0;36mbackward\u001B[1;34m(tensors, grad_tensors, retain_graph, create_graph, grad_variables, inputs)\u001B[0m\n\u001B[0;32m    192\u001B[0m     retain_graph \u001B[38;5;241m=\u001B[39m create_graph\n\u001B[0;32m    194\u001B[0m \u001B[38;5;66;03m# The reason we repeat same the comment below is that\u001B[39;00m\n\u001B[0;32m    195\u001B[0m \u001B[38;5;66;03m# some Python versions print out the first line of a multi-line function\u001B[39;00m\n\u001B[0;32m    196\u001B[0m \u001B[38;5;66;03m# calls in the traceback and some print out the last line\u001B[39;00m\n\u001B[1;32m--> 197\u001B[0m \u001B[43mVariable\u001B[49m\u001B[38;5;241;43m.\u001B[39;49m\u001B[43m_execution_engine\u001B[49m\u001B[38;5;241;43m.\u001B[39;49m\u001B[43mrun_backward\u001B[49m\u001B[43m(\u001B[49m\u001B[43m  \u001B[49m\u001B[38;5;66;43;03m# Calls into the C++ engine to run the backward pass\u001B[39;49;00m\n\u001B[0;32m    198\u001B[0m \u001B[43m    \u001B[49m\u001B[43mtensors\u001B[49m\u001B[43m,\u001B[49m\u001B[43m \u001B[49m\u001B[43mgrad_tensors_\u001B[49m\u001B[43m,\u001B[49m\u001B[43m \u001B[49m\u001B[43mretain_graph\u001B[49m\u001B[43m,\u001B[49m\u001B[43m \u001B[49m\u001B[43mcreate_graph\u001B[49m\u001B[43m,\u001B[49m\u001B[43m \u001B[49m\u001B[43minputs\u001B[49m\u001B[43m,\u001B[49m\n\u001B[0;32m    199\u001B[0m \u001B[43m    \u001B[49m\u001B[43mallow_unreachable\u001B[49m\u001B[38;5;241;43m=\u001B[39;49m\u001B[38;5;28;43;01mTrue\u001B[39;49;00m\u001B[43m,\u001B[49m\u001B[43m \u001B[49m\u001B[43maccumulate_grad\u001B[49m\u001B[38;5;241;43m=\u001B[39;49m\u001B[38;5;28;43;01mTrue\u001B[39;49;00m\u001B[43m)\u001B[49m\n",
      "\u001B[1;31mKeyboardInterrupt\u001B[0m: "
     ]
    }
   ],
   "source": [
    "t1 = time.time()\n",
    "NN = PINNS()\n",
    "NN.to(device)\n",
    "lr = 1e-4\n",
    "epochs = 5000\n",
    "optimizer = torch.optim.Adam(NN.parameters(), lr=lr)\n",
    "\n",
    "for i in range(epochs):\n",
    "    optimizer.zero_grad()\n",
    "    x_phy = x_res\n",
    "    y_phy = y_res\n",
    "        \n",
    "    pinns_pred = NN(x_phy,y_phy)\n",
    "    phi_x = diff_x(pinns_pred,x_phy)\n",
    "    phi_xx = diff_x(phi_x,x_phy)\n",
    "    phi_y = diff_x(pinns_pred,y_phy)\n",
    "    phi_yy = diff_x(phi_y,y_phy)\n",
    "    eqn = x_phy*(phi_xx + phi_yy + B_g_square*pinns_pred) + phi_x        \n",
    "    loss_pde = loss_func(eqn)\n",
    "\n",
    "    #loss boundary\n",
    "    bc_left = NN(l_b_1,l_b_2) \n",
    "    bc_right = NN(r_b_x,r_b_y)\n",
    "    bc_up = NN(u_b_x,u_b_y)\n",
    "    bc_down = NN(d_b_1,d_b_2) \n",
    "    down_grad = diff_x(bc_down,d_b_2)\n",
    "    left_grad = diff_x(bc_left,l_b_1)\n",
    "        \n",
    "    loss_bc = loss_func(down_grad) + loss_func(left_grad) + loss_func(bc_right) + loss_func(bc_up)\n",
    "        \n",
    "   #normalisation equal 1\n",
    "    x_nor = lb[:,0:1]\n",
    "    y_nor = lb[:,1:2]\n",
    "    norm = NN(x_nor,y_nor)\n",
    "    ones = torch.ones_like(norm).to(device)\n",
    "    loss_norm = loss_func(norm,ones)\n",
    "    loss = loss_pde + loss_bc + loss_norm\n",
    "    loss.backward()\n",
    "\n",
    "    optimizer.step()\n",
    "    \n",
    "    if i % 10 == 0:\n",
    "        print(f' Iter: {i}, loss_pde: {loss_pde}, loss_bc: {loss_bc}, loss_norm:{loss_norm}')\n",
    "\n",
    "torch.save(NN.state_dict(), 'cylindrical_pinns.pth')\n",
    "\n",
    "start_time = time.time()\n",
    "print(f'Training total time: {(t1 - start_time)/60} minutes')"
   ],
   "metadata": {
    "collapsed": false,
    "ExecuteTime": {
     "end_time": "2024-06-01T00:54:18.566648900Z",
     "start_time": "2024-06-01T00:54:10.201764600Z"
    }
   },
   "id": "91429eb5ff9521ca"
  },
  {
   "cell_type": "code",
   "execution_count": 31,
   "outputs": [],
   "source": [
    "pred = scipy.io.loadmat('Data/X_Pred.mat')\n",
    "x_x = pred['x_pred']\n",
    "y_y = pred['y_pred']"
   ],
   "metadata": {
    "collapsed": false,
    "ExecuteTime": {
     "end_time": "2024-06-01T00:54:22.791489600Z",
     "start_time": "2024-06-01T00:54:22.761724500Z"
    }
   },
   "id": "b6d961dfc581d483"
  },
  {
   "cell_type": "code",
   "execution_count": 32,
   "outputs": [
    {
     "data": {
      "text/plain": "<matplotlib.colorbar.Colorbar at 0x1ec005a66e0>"
     },
     "execution_count": 32,
     "metadata": {},
     "output_type": "execute_result"
    },
    {
     "data": {
      "text/plain": "<Figure size 432x288 with 2 Axes>",
      "image/png": "[encoded data removed]"
     },
     "metadata": {
      "needs_background": "light"
     },
     "output_type": "display_data"
    }
   ],
   "source": [
    "NN = PINNS()\n",
    "model_path = 'cylindrical_pinns.pth'\n",
    "\n",
    "NN.load_state_dict(torch.load(model_path, map_location=device))\n",
    "NN.eval()\n",
    "NN.to(device)\n",
    "def data_loader(x,grad=True):\n",
    "    x_tensor = torch.tensor(x,requires_grad=grad,dtype=torch.float32,device=device)\n",
    "    return x_tensor\n",
    "\n",
    "predict_x, predict_y = data_loader(x_x, False).reshape(-1).unsqueeze(1), data_loader(y_y, False).reshape(-1).unsqueeze(1)\n",
    "with torch.no_grad():\n",
    "    predictions = NN(predict_x, predict_y)\n",
    "\n",
    "predictions_flattened = predictions.flatten()\n",
    "plt.contourf(predict_x.reshape(200, 200), predict_y.reshape(200, 200), predictions.reshape(200, 200))\n",
    "plt.colorbar()"
   ],
   "metadata": {
    "collapsed": false,
    "ExecuteTime": {
     "end_time": "2024-06-01T00:54:24.026609900Z",
     "start_time": "2024-06-01T00:54:23.791611700Z"
    }
   },
   "id": "e32c76e3e954223c"
  },
  {
   "cell_type": "code",
   "execution_count": null,
   "outputs": [],
   "source": [],
   "metadata": {
    "collapsed": false
   },
   "id": "7d6ea2501b616bdc"
  }
 ],
 "metadata": {
  "kernelspec": {
   "display_name": "Python 3",
   "language": "python",
   "name": "python3"
  },
  "language_info": {
   "codemirror_mode": {
    "name": "ipython",
    "version": 2
   },
   "file_extension": ".py",
   "mimetype": "text/x-python",
   "name": "python",
   "nbconvert_exporter": "python",
   "pygments_lexer": "ipython2",
   "version": "2.7.6"
  }
 },
 "nbformat": 4,
 "nbformat_minor": 5
}
