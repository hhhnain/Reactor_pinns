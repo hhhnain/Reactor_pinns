{
 "cells": [
  {
   "cell_type": "code",
   "execution_count": 33,
   "id": "initial_id",
   "metadata": {
    "collapsed": true,
    "ExecuteTime": {
     "end_time": "2024-05-31T00:50:45.836865300Z",
     "start_time": "2024-05-31T00:50:45.797535800Z"
    }
   },
   "outputs": [],
   "source": [
    "import torch\n",
    "import torch.nn as nn\n",
    "import numpy as np\n",
    "import time\n",
    "import scipy\n",
    "import scipy.special as special\n",
    "import matplotlib.pyplot as plt"
   ]
  },
  {
   "cell_type": "code",
   "execution_count": 34,
   "outputs": [
    {
     "data": {
      "text/plain": "<matplotlib.colorbar.Colorbar at 0x2ac0ad67790>"
     },
     "execution_count": 34,
     "metadata": {},
     "output_type": "execute_result"
    },
    {
     "data": {
      "text/plain": "<Figure size 432x288 with 2 Axes>",
      "image/png": "[encoded data removed]"
     },
     "metadata": {
      "needs_background": "light"
     },
     "output_type": "display_data"
    }
   ],
   "source": [
    "device = torch.device(\"cuda\" if torch.cuda.is_available() else \"cpu\")\n",
    "data_path = 'Data/'\n",
    "\n",
    "sigma_a = 0.45\n",
    "sigma_s = 2\n",
    "sigma_f = 0.5\n",
    "vsigma_f = 2.5\n",
    "d = 0.7104\n",
    "D = 1/(3*(sigma_s + sigma_a))\n",
    "B_g_square = (vsigma_f - sigma_a)/D\n",
    "R_e_square = (np.pi**2 + 2.405**2) / B_g_square\n",
    "R_e = R_e_square ** (1/2)\n",
    "R = R_e - d\n",
    "H_e = R_e\n",
    "AC = 1/special.jv(0,0)\n",
    "\n",
    "\n",
    "#analytical plot using this function\n",
    "def Exact_u_func(x,y):\n",
    "    u = AC*special.jv(0,(2.405/R_e)*x)*np.cos((np.pi/H_e)*y)\n",
    "    return u\n",
    "\n",
    "x_pred, y_pred = np.linspace(0,1,100), np.linspace(0,0.5,100)\n",
    "X, Y = np.meshgrid(x_pred, y_pred)\n",
    "x_p, y_p = X.flatten(), Y.flatten()\n",
    "analytical_solution = Exact_u_func(x_p,y_p) \n",
    "plt.title('Analytical Solution')\n",
    "plt.contourf(X,Y,analytical_solution.reshape(100,100),cmap='viridis')\n",
    "plt.colorbar()"
   ],
   "metadata": {
    "collapsed": false,
    "ExecuteTime": {
     "end_time": "2024-05-31T00:50:51.251211600Z",
     "start_time": "2024-05-31T00:50:50.626571600Z"
    }
   },
   "id": "8053c4ba7d72715a"
  },
  {
   "cell_type": "code",
   "execution_count": 35,
   "outputs": [],
   "source": [
    "#load collocation points from mat files, generated through latin hypercube samping\n",
    "\n",
    "X_Res = scipy.io.loadmat(data_path+'X_Res.mat')\n",
    "x_res = X_Res['x_res']\n",
    "y_res = X_Res['y_res']\n",
    "        \n",
    "X_B = scipy.io.loadmat(data_path+'X_B.mat')\n",
    "X_b_left = X_B['X_b_left']\n",
    "X_b_right = X_B['X_b_right']\n",
    "X_b_down = X_B['X_b_down']\n",
    "X_b_up = X_B['X_b_up']        \n",
    "        \n",
    "        \n",
    "Boundary = scipy.io.loadmat(data_path+'Boundary.mat')\n",
    "lb = Boundary['lb']\n",
    "ub = Boundary['ub']\n"
   ],
   "metadata": {
    "collapsed": false,
    "ExecuteTime": {
     "end_time": "2024-05-31T00:50:56.315095900Z",
     "start_time": "2024-05-31T00:50:56.272102600Z"
    }
   },
   "id": "a75c5a0e29d4e37d"
  },
  {
   "cell_type": "code",
   "execution_count": 36,
   "outputs": [],
   "source": [
    "class PINNS(nn.Module):\n",
    "    def __init__(self):\n",
    "        super(PINNS, self).__init__()\n",
    "        self.layers = [2,40,40,40,40,40,40,40,40,1]\n",
    "        self.device = \"cuda\" if torch.cuda.is_available() else \"cpu\"\n",
    "        self.linear_layers = nn.ModuleList()\n",
    "        self.init_linear_layers()\n",
    "        self.B_g_square = self.data_loader(15.0675)\n",
    "        \n",
    "        self.x_res = self.data_loader(x_res)\n",
    "        self.y_res = self.data_loader(y_res)\n",
    "        self.lb = self.data_loader(lb,requires_grad=False)\n",
    "        self.ub = self.data_loader(ub,requires_grad=False)\n",
    "        self.l_b_1 = self.data_loader(X_b_left[:,0:1])\n",
    "        self.l_b_2 = self.data_loader(X_b_left[:,1:2])\n",
    "        self.d_b_1 = self.data_loader(X_b_down[:,0:1])\n",
    "        self.d_b_2 = self.data_loader(X_b_down[:,1:2])\n",
    "        self.u_b_x = self.data_loader(X_b_up[:,0:1]) \n",
    "        self.u_b_y = self.data_loader(X_b_up[:,1:2]) \n",
    "        self.r_b_x = self.data_loader(X_b_right[:,0:1])\n",
    "        self.r_b_y = self.data_loader(X_b_right[:,1:2])\n",
    "        \n",
    "        self.loss_function = torch.nn.MSELoss(reduction='mean')\n",
    "        self.optimizer = None\n",
    "        self.iter = 0\n",
    "        self.start_time = None\n",
    "    \n",
    "    \n",
    "    def data_loader(self,x, requires_grad=True):\n",
    "        x_array = np.array(x)\n",
    "        x_tensor = torch.tensor(x_array,\n",
    "                    requires_grad=requires_grad,\n",
    "                            dtype=torch.float32,\n",
    "                            device=device)\n",
    "        return x_tensor\n",
    "    \n",
    "    def loss_func(self,pred,true=None):\n",
    "        if true is None:\n",
    "            true = torch.zeros_like(pred).to(self.device)\n",
    "        return self.loss_function(pred,true)\n",
    "        \n",
    "    \n",
    "    def diff_x(self,a,b):\n",
    "        da_db = torch.autograd.grad(a.sum(),b,create_graph=True)[0]\n",
    "        return da_db\n",
    "    \n",
    "    def predict(self,x,y):\n",
    "        x = self.data_loader(x)\n",
    "        y = self.data_loader(y)\n",
    "        with torch.no_grad():\n",
    "            u = self.forward(x,y)\n",
    "            return u\n",
    "    \n",
    "    def adam_optim(self,optimizer,iter):\n",
    "        self.optimizer = optimizer\n",
    "        for i in range(iter):\n",
    "            self.optimize()\n",
    "            self.optimizer.step()\n",
    "    \n",
    "    \n",
    "    def resize(self,X):\n",
    "        X_shifted = 2 * (X-self.lb) / (self.ub-self.lb) - 1\n",
    "        return X_shifted \n",
    "    \n",
    "    def optimize(self):\n",
    "        if self.start_time is None:\n",
    "            self.start_time = time.time()\n",
    "            \n",
    "        self.optimizer.zero_grad()\n",
    "    \n",
    "    \n",
    "        #loss pde\n",
    "        x_phy = self.x_res\n",
    "        y_phy = self.y_res\n",
    "        l_b_1 = self.l_b_1 \n",
    "        l_b_2 = self.l_b_2\n",
    "        d_b_1 = self.d_b_1 \n",
    "        d_b_2 = self.d_b_2 \n",
    "\n",
    "        \n",
    "        pinns_pred = self.forward(x_phy,y_phy)\n",
    "        phi_x = self.diff_x(pinns_pred,x_phy)\n",
    "        phi_xx = self.diff_x(phi_x,x_phy)\n",
    "        phi_y = self.diff_x(pinns_pred,y_phy)\n",
    "        phi_yy = self.diff_x(phi_y,y_phy)\n",
    "        eqn = x_phy*(phi_xx + phi_yy + B_g_square*pinns_pred) + phi_x        \n",
    "        loss_pde = self.loss_func(eqn)\n",
    "    \n",
    "        #loss boundary\n",
    "        bc_left = self.forward(l_b_1,l_b_2) \n",
    "        bc_right = self.forward(self.r_b_x,self.r_b_y)\n",
    "        bc_up = self.forward(self.u_b_x,self.u_b_y)\n",
    "        bc_down = self.forward(d_b_1,d_b_2) \n",
    "        down_grad = self.diff_x(bc_down,d_b_2)\n",
    "        left_grad = self.diff_x(bc_left,l_b_1)\n",
    "        \n",
    "        loss_bc = self.loss_func(down_grad) + self.loss_func(left_grad) + self.loss_func(bc_right) + self.loss_func(bc_up)\n",
    "        \n",
    "        #normalisation left, down to equal 1\n",
    "        x_nor = self.lb[:,0:1]\n",
    "        y_nor = self.lb[:,1:2]\n",
    "        norm = self.forward(x_nor,y_nor)\n",
    "        ones = torch.ones_like(norm).to(self.device)\n",
    "        loss_norm = self.loss_func(norm,ones)\n",
    "        a_pde = 1\n",
    "        a_bc = 1\n",
    "        a_norm = 1\n",
    "        self.loss = a_pde*loss_pde + a_bc*loss_bc + a_norm*loss_norm\n",
    "        self.loss.backward()\n",
    "        self.iter = self.iter + 1\n",
    "        \n",
    "        if self.iter % 10 == 0:\n",
    "            pde_loss = loss_pde.detach().cpu().numpy()\n",
    "            bc_loss = loss_bc.detach().cpu().numpy()\n",
    "            norm_loss = loss_norm.detach().cpu().numpy()\n",
    "            \n",
    "            print(f' Iter: {self.iter}, loss_pde: {pde_loss}, loss_bc: {bc_loss}, loss_norm:{norm_loss}')\n",
    "            elapsed = time.time() - self.start_time\n",
    "            print(f'Time elapsed: {elapsed}')\n",
    "            self.start_time = time.time()\n",
    "            \n",
    "        return self.loss\n",
    "    \n",
    "    def init_linear_layers(self):\n",
    "        for i in range(len(self.layers) - 1):\n",
    "            self.linear_layers.append(nn.Linear(self.layers[i], self.layers[i + 1]))\n",
    "            nn.init.xavier_normal_(self.linear_layers[-1].weight)\n",
    "\n",
    "    def forward(self, x, y):\n",
    "        X = torch.cat([x, y], 1)\n",
    "        X = self.resize(X)\n",
    "        for layer in self.linear_layers[:-1]:\n",
    "            X = torch.tanh(layer(X))\n",
    "\n",
    "        output = self.linear_layers[-1](X)\n",
    "\n",
    "        return output"
   ],
   "metadata": {
    "collapsed": false,
    "ExecuteTime": {
     "end_time": "2024-05-31T00:50:58.953093700Z",
     "start_time": "2024-05-31T00:50:58.896361Z"
    }
   },
   "id": "54a7169f35170bd8"
  },
  {
   "cell_type": "code",
   "execution_count": 37,
   "outputs": [
    {
     "ename": "KeyboardInterrupt",
     "evalue": "",
     "output_type": "error",
     "traceback": [
      "\u001B[1;31m---------------------------------------------------------------------------\u001B[0m",
      "\u001B[1;31mKeyboardInterrupt\u001B[0m                         Traceback (most recent call last)",
      "Input \u001B[1;32mIn [37]\u001B[0m, in \u001B[0;36m<cell line: 14>\u001B[1;34m()\u001B[0m\n\u001B[0;32m     11\u001B[0m     torch\u001B[38;5;241m.\u001B[39msave(NN\u001B[38;5;241m.\u001B[39mstate_dict(), \u001B[38;5;124m'\u001B[39m\u001B[38;5;124mcylindrical_pinns.pth\u001B[39m\u001B[38;5;124m'\u001B[39m)\n\u001B[0;32m     13\u001B[0m start_time \u001B[38;5;241m=\u001B[39m time\u001B[38;5;241m.\u001B[39mtime()\n\u001B[1;32m---> 14\u001B[0m \u001B[43moptimize_predict\u001B[49m\u001B[43m(\u001B[49m\u001B[43mlr\u001B[49m\u001B[43m,\u001B[49m\u001B[43mepochs\u001B[49m\u001B[38;5;241;43m=\u001B[39;49m\u001B[43mepochs\u001B[49m\u001B[43m)\u001B[49m\n\u001B[0;32m     15\u001B[0m \u001B[38;5;28mprint\u001B[39m(\u001B[38;5;124mf\u001B[39m\u001B[38;5;124m'\u001B[39m\u001B[38;5;124mTraining total time: \u001B[39m\u001B[38;5;132;01m{\u001B[39;00m(time\u001B[38;5;241m.\u001B[39mtime() \u001B[38;5;241m-\u001B[39m start_time)\u001B[38;5;241m/\u001B[39m\u001B[38;5;241m60\u001B[39m\u001B[38;5;132;01m}\u001B[39;00m\u001B[38;5;124m minutes\u001B[39m\u001B[38;5;124m'\u001B[39m)\n",
      "Input \u001B[1;32mIn [37]\u001B[0m, in \u001B[0;36moptimize_predict\u001B[1;34m(lr, epochs)\u001B[0m\n\u001B[0;32m      7\u001B[0m \u001B[38;5;28;01mdef\u001B[39;00m \u001B[38;5;21moptimize_predict\u001B[39m(lr,epochs):\n\u001B[0;32m      8\u001B[0m     adam_optimizer \u001B[38;5;241m=\u001B[39m torch\u001B[38;5;241m.\u001B[39moptim\u001B[38;5;241m.\u001B[39mAdam(NN\u001B[38;5;241m.\u001B[39mparameters(), lr\u001B[38;5;241m=\u001B[39mlr)\n\u001B[1;32m----> 9\u001B[0m     \u001B[43mNN\u001B[49m\u001B[38;5;241;43m.\u001B[39;49m\u001B[43madam_optim\u001B[49m\u001B[43m(\u001B[49m\u001B[43madam_optimizer\u001B[49m\u001B[43m,\u001B[49m\u001B[43mepochs\u001B[49m\u001B[43m)\u001B[49m\n\u001B[0;32m     11\u001B[0m     torch\u001B[38;5;241m.\u001B[39msave(NN\u001B[38;5;241m.\u001B[39mstate_dict(), \u001B[38;5;124m'\u001B[39m\u001B[38;5;124mcylindrical_pinns.pth\u001B[39m\u001B[38;5;124m'\u001B[39m)\n",
      "Input \u001B[1;32mIn [36]\u001B[0m, in \u001B[0;36mPINNS.adam_optim\u001B[1;34m(self, optimizer, iter)\u001B[0m\n\u001B[0;32m     55\u001B[0m \u001B[38;5;28mself\u001B[39m\u001B[38;5;241m.\u001B[39moptimizer \u001B[38;5;241m=\u001B[39m optimizer\n\u001B[0;32m     56\u001B[0m \u001B[38;5;28;01mfor\u001B[39;00m i \u001B[38;5;129;01min\u001B[39;00m \u001B[38;5;28mrange\u001B[39m(\u001B[38;5;28miter\u001B[39m):\n\u001B[1;32m---> 57\u001B[0m     \u001B[38;5;28;43mself\u001B[39;49m\u001B[38;5;241;43m.\u001B[39;49m\u001B[43moptimize\u001B[49m\u001B[43m(\u001B[49m\u001B[43m)\u001B[49m\n\u001B[0;32m     58\u001B[0m     \u001B[38;5;28mself\u001B[39m\u001B[38;5;241m.\u001B[39moptimizer\u001B[38;5;241m.\u001B[39mstep()\n",
      "Input \u001B[1;32mIn [36]\u001B[0m, in \u001B[0;36mPINNS.optimize\u001B[1;34m(self)\u001B[0m\n\u001B[0;32m    107\u001B[0m a_norm \u001B[38;5;241m=\u001B[39m \u001B[38;5;241m1\u001B[39m\n\u001B[0;32m    108\u001B[0m \u001B[38;5;28mself\u001B[39m\u001B[38;5;241m.\u001B[39mloss \u001B[38;5;241m=\u001B[39m a_pde\u001B[38;5;241m*\u001B[39mloss_pde \u001B[38;5;241m+\u001B[39m a_bc\u001B[38;5;241m*\u001B[39mloss_bc \u001B[38;5;241m+\u001B[39m a_norm\u001B[38;5;241m*\u001B[39mloss_norm\n\u001B[1;32m--> 109\u001B[0m \u001B[38;5;28;43mself\u001B[39;49m\u001B[38;5;241;43m.\u001B[39;49m\u001B[43mloss\u001B[49m\u001B[38;5;241;43m.\u001B[39;49m\u001B[43mbackward\u001B[49m\u001B[43m(\u001B[49m\u001B[43m)\u001B[49m\n\u001B[0;32m    110\u001B[0m \u001B[38;5;28mself\u001B[39m\u001B[38;5;241m.\u001B[39miter \u001B[38;5;241m=\u001B[39m \u001B[38;5;28mself\u001B[39m\u001B[38;5;241m.\u001B[39miter \u001B[38;5;241m+\u001B[39m \u001B[38;5;241m1\u001B[39m\n\u001B[0;32m    112\u001B[0m \u001B[38;5;28;01mif\u001B[39;00m \u001B[38;5;28mself\u001B[39m\u001B[38;5;241m.\u001B[39miter \u001B[38;5;241m%\u001B[39m \u001B[38;5;241m10\u001B[39m \u001B[38;5;241m==\u001B[39m \u001B[38;5;241m0\u001B[39m:\n",
      "File \u001B[1;32m~\\AppData\\Local\\Programs\\Python\\Python310\\lib\\site-packages\\torch\\_tensor.py:488\u001B[0m, in \u001B[0;36mTensor.backward\u001B[1;34m(self, gradient, retain_graph, create_graph, inputs)\u001B[0m\n\u001B[0;32m    478\u001B[0m \u001B[38;5;28;01mif\u001B[39;00m has_torch_function_unary(\u001B[38;5;28mself\u001B[39m):\n\u001B[0;32m    479\u001B[0m     \u001B[38;5;28;01mreturn\u001B[39;00m handle_torch_function(\n\u001B[0;32m    480\u001B[0m         Tensor\u001B[38;5;241m.\u001B[39mbackward,\n\u001B[0;32m    481\u001B[0m         (\u001B[38;5;28mself\u001B[39m,),\n\u001B[1;32m   (...)\u001B[0m\n\u001B[0;32m    486\u001B[0m         inputs\u001B[38;5;241m=\u001B[39minputs,\n\u001B[0;32m    487\u001B[0m     )\n\u001B[1;32m--> 488\u001B[0m \u001B[43mtorch\u001B[49m\u001B[38;5;241;43m.\u001B[39;49m\u001B[43mautograd\u001B[49m\u001B[38;5;241;43m.\u001B[39;49m\u001B[43mbackward\u001B[49m\u001B[43m(\u001B[49m\n\u001B[0;32m    489\u001B[0m \u001B[43m    \u001B[49m\u001B[38;5;28;43mself\u001B[39;49m\u001B[43m,\u001B[49m\u001B[43m \u001B[49m\u001B[43mgradient\u001B[49m\u001B[43m,\u001B[49m\u001B[43m \u001B[49m\u001B[43mretain_graph\u001B[49m\u001B[43m,\u001B[49m\u001B[43m \u001B[49m\u001B[43mcreate_graph\u001B[49m\u001B[43m,\u001B[49m\u001B[43m \u001B[49m\u001B[43minputs\u001B[49m\u001B[38;5;241;43m=\u001B[39;49m\u001B[43minputs\u001B[49m\n\u001B[0;32m    490\u001B[0m \u001B[43m\u001B[49m\u001B[43m)\u001B[49m\n",
      "File \u001B[1;32m~\\AppData\\Local\\Programs\\Python\\Python310\\lib\\site-packages\\torch\\autograd\\__init__.py:197\u001B[0m, in \u001B[0;36mbackward\u001B[1;34m(tensors, grad_tensors, retain_graph, create_graph, grad_variables, inputs)\u001B[0m\n\u001B[0;32m    192\u001B[0m     retain_graph \u001B[38;5;241m=\u001B[39m create_graph\n\u001B[0;32m    194\u001B[0m \u001B[38;5;66;03m# The reason we repeat same the comment below is that\u001B[39;00m\n\u001B[0;32m    195\u001B[0m \u001B[38;5;66;03m# some Python versions print out the first line of a multi-line function\u001B[39;00m\n\u001B[0;32m    196\u001B[0m \u001B[38;5;66;03m# calls in the traceback and some print out the last line\u001B[39;00m\n\u001B[1;32m--> 197\u001B[0m \u001B[43mVariable\u001B[49m\u001B[38;5;241;43m.\u001B[39;49m\u001B[43m_execution_engine\u001B[49m\u001B[38;5;241;43m.\u001B[39;49m\u001B[43mrun_backward\u001B[49m\u001B[43m(\u001B[49m\u001B[43m  \u001B[49m\u001B[38;5;66;43;03m# Calls into the C++ engine to run the backward pass\u001B[39;49;00m\n\u001B[0;32m    198\u001B[0m \u001B[43m    \u001B[49m\u001B[43mtensors\u001B[49m\u001B[43m,\u001B[49m\u001B[43m \u001B[49m\u001B[43mgrad_tensors_\u001B[49m\u001B[43m,\u001B[49m\u001B[43m \u001B[49m\u001B[43mretain_graph\u001B[49m\u001B[43m,\u001B[49m\u001B[43m \u001B[49m\u001B[43mcreate_graph\u001B[49m\u001B[43m,\u001B[49m\u001B[43m \u001B[49m\u001B[43minputs\u001B[49m\u001B[43m,\u001B[49m\n\u001B[0;32m    199\u001B[0m \u001B[43m    \u001B[49m\u001B[43mallow_unreachable\u001B[49m\u001B[38;5;241;43m=\u001B[39;49m\u001B[38;5;28;43;01mTrue\u001B[39;49;00m\u001B[43m,\u001B[49m\u001B[43m \u001B[49m\u001B[43maccumulate_grad\u001B[49m\u001B[38;5;241;43m=\u001B[39;49m\u001B[38;5;28;43;01mTrue\u001B[39;49;00m\u001B[43m)\u001B[49m\n",
      "\u001B[1;31mKeyboardInterrupt\u001B[0m: "
     ]
    }
   ],
   "source": [
    "t1 = time.time()\n",
    "NN = PINNS()\n",
    "NN.to(device)\n",
    "lr = 1e-4\n",
    "epochs = 5000\n",
    "\n",
    "def optimize_predict(lr,epochs):\n",
    "    adam_optimizer = torch.optim.Adam(NN.parameters(), lr=lr)\n",
    "    NN.adam_optim(adam_optimizer,epochs)\n",
    "    \n",
    "    torch.save(NN.state_dict(), 'cylindrical_pinns.pth')\n",
    "\n",
    "start_time = time.time()\n",
    "optimize_predict(lr,epochs=epochs)\n",
    "print(f'Training total time: {(time.time() - start_time)/60} minutes')"
   ],
   "metadata": {
    "collapsed": false,
    "ExecuteTime": {
     "end_time": "2024-05-31T00:51:05.608360800Z",
     "start_time": "2024-05-31T00:51:01.580341900Z"
    }
   },
   "id": "91429eb5ff9521ca"
  },
  {
   "cell_type": "code",
   "execution_count": 31,
   "outputs": [],
   "source": [
    "pred = scipy.io.loadmat('Data/X_Pred.mat')\n",
    "x_x = pred['x_pred']\n",
    "y_y = pred['y_pred']"
   ],
   "metadata": {
    "collapsed": false,
    "ExecuteTime": {
     "end_time": "2024-05-31T00:44:45.979948700Z",
     "start_time": "2024-05-31T00:44:45.955714300Z"
    }
   },
   "id": "b6d961dfc581d483"
  },
  {
   "cell_type": "code",
   "execution_count": 32,
   "outputs": [
    {
     "data": {
      "text/plain": "<matplotlib.colorbar.Colorbar at 0x2ac09964880>"
     },
     "execution_count": 32,
     "metadata": {},
     "output_type": "execute_result"
    },
    {
     "data": {
      "text/plain": "<Figure size 432x288 with 2 Axes>",
      "image/png": "[encoded data removed]"
     },
     "metadata": {
      "needs_background": "light"
     },
     "output_type": "display_data"
    }
   ],
   "source": [
    "import matplotlib.pyplot as plt\n",
    "NN = PINNS()\n",
    "model_path = 'cylindrical_pinns.pth'\n",
    "NN.load_state_dict(torch.load(model_path, map_location=device))\n",
    "NN.eval()\n",
    "NN.to(device)\n",
    "\n",
    "def data_loader(x,grad=True):\n",
    "    x_tensor = torch.tensor(x,requires_grad=grad,dtype=torch.float32,device=device)\n",
    "    return x_tensor\n",
    "\n",
    "predict_x, predict_y = data_loader(x_x, False).reshape(-1).unsqueeze(1), data_loader(y_y, False).reshape(-1).unsqueeze(1)\n",
    "with torch.no_grad():\n",
    "    predictions = NN(predict_x, predict_y)\n",
    "    \n",
    "predictions_flattened = predictions.flatten()\n",
    "plt.contourf(predict_x.reshape(200, 200), predict_y.reshape(200, 200), predictions.reshape(200, 200))\n",
    "plt.colorbar()"
   ],
   "metadata": {
    "collapsed": false,
    "ExecuteTime": {
     "end_time": "2024-05-31T00:44:48.776035400Z",
     "start_time": "2024-05-31T00:44:47.035829500Z"
    }
   },
   "id": "e32c76e3e954223c"
  },
  {
   "cell_type": "code",
   "execution_count": null,
   "outputs": [],
   "source": [],
   "metadata": {
    "collapsed": false
   },
   "id": "7d6ea2501b616bdc"
  }
 ],
 "metadata": {
  "kernelspec": {
   "display_name": "Python 3",
   "language": "python",
   "name": "python3"
  },
  "language_info": {
   "codemirror_mode": {
    "name": "ipython",
    "version": 2
   },
   "file_extension": ".py",
   "mimetype": "text/x-python",
   "name": "python",
   "nbconvert_exporter": "python",
   "pygments_lexer": "ipython2",
   "version": "2.7.6"
  }
 },
 "nbformat": 4,
 "nbformat_minor": 5
}
